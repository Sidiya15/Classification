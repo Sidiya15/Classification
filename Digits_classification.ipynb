{
 "cells": [
  {
   "cell_type": "code",
   "execution_count": 8,
   "metadata": {
    "id": "IcTYsU0D-NtF"
   },
   "outputs": [],
   "source": [
    "# import the necessay libraries and the dataset with which we shall play!\n",
    "import matplotlib.pyplot as plt\n",
    "import seaborn as sns\n",
    "import numpy as np\n",
    "import random\n",
    "from sklearn import datasets\n",
    "from sklearn.metrics import confusion_matrix, precision_score, accuracy_score, recall_score, auc,roc_curve\n",
    "from sklearn.model_selection import KFold, cross_val_score"
   ]
  },
  {
   "cell_type": "code",
   "execution_count": 2,
   "metadata": {
    "id": "jz_3Fdb7l_N7"
   },
   "outputs": [],
   "source": [
    "# store the data itself and the target seperatly\n",
    "digits = datasets.load_digits()\n",
    "X=digits.data\n",
    "y=digits.target"
   ]
  },
  {
   "cell_type": "code",
   "execution_count": 3,
   "metadata": {
    "id": "31EqnSHXT-lA"
   },
   "outputs": [],
   "source": [
    "# get the data with respect to the choice of lables {8, 9}\n",
    "def getData(X, y):\n",
    "    index = []\n",
    "    for i in range(len(y)):\n",
    "        if y[i] != 8 and y[i] != 9:\n",
    "            index.append(i)\n",
    "\n",
    "    y = np.delete(y, index)\n",
    "    X = np.delete(X, index, axis=0)\n",
    "    return X, y\n",
    "\n",
    "X, y = getData(X, y)"
   ]
  },
  {
   "cell_type": "code",
   "execution_count": 4,
   "metadata": {
    "id": "5OqumuKdUSZ8"
   },
   "outputs": [],
   "source": [
    "# keep truck on the labels and their indices\n",
    "indice = {}\n",
    "for i in range(len(y)):\n",
    "        if y[i] == 8 or y[i] == 9:\n",
    "            indice[i] = y[i]\n",
    "\n",
    "indice_8 = [key  for (key, value) in indice.items() if value == 8]\n",
    "indice_9 = [key  for (key, value) in indice.items() if value == 9]"
   ]
  },
  {
   "cell_type": "code",
   "execution_count": 56,
   "metadata": {
    "colab": {
     "base_uri": "https://localhost:8080/",
     "height": 248
    },
    "id": "xlBtHH0aU51a",
    "outputId": "03af5943-4726-468e-eac5-5e6d3778ebec"
   },
   "outputs": [
    {
     "data": {
      "image/png": "[encoded data removed]",
      "text/plain": [
       "<Figure size 755x528.5 with 2 Axes>"
      ]
     },
     "metadata": {},
     "output_type": "display_data"
    }
   ],
   "source": [
    "# set the stage for dispalying a couple of images\n",
    "fig = plt.figure(figsize =(10, 7), dpi = 75.5, facecolor = 'white')\n",
    "ax = fig.add_subplot(121)\n",
    "ay = fig.add_subplot(122)\n",
    "\n",
    "# randomly selectin' and displayin' an element of each label    \n",
    "obs1 = X[random.sample(indice_8, 1),:]\n",
    "obs2 = X[random.sample(indice_9, 1),:]\n",
    "image1 = np.array(obs1, dtype='uint8').reshape(8,8)\n",
    "image2 = np.array(obs2, dtype='uint8').reshape(8,8)\n",
    "ax.imshow(image1, cmap='gray')\n",
    "ax.axis(\"off\")\n",
    "ax.annotate(y[random.sample(indice_8, 1)],(3,3),bbox={'facecolor':'white'}, fontsize=16)\n",
    "ay.imshow(image2, cmap='gray')\n",
    "ay.axis(\"off\")\n",
    "ay.imshow(image2, cmap='gray')\n",
    "ay.annotate(y[random.sample(indice_9, 1)],(3,3),bbox={'facecolor':'white'}, fontsize=16)\n",
    "plt.show()"
   ]
  },
  {
   "cell_type": "code",
   "execution_count": 5,
   "metadata": {
    "id": "oUSJj65uWR2J"
   },
   "outputs": [],
   "source": [
    "# disarrange the rows order in the dataset\n",
    "nrow, ncol = X.shape\n",
    "p = np.arange(nrow, dtype = int)\n",
    "random.seed(0)  #to be able to regenerate the same data multiple times\n",
    "random.shuffle(p)\n",
    "X, y = X[p], y[p]"
   ]
  },
  {
   "cell_type": "code",
   "execution_count": 6,
   "metadata": {
    "id": "y_isYnMuWXVZ"
   },
   "outputs": [],
   "source": [
    "# Split the dataset for training and testing\n",
    "n = int(2*nrow/3)  \n",
    "X_train = X[:n]  #two-third for training\n",
    "X_test = X[n:]\n",
    "y_train = y[:n]\n",
    "y_test = y[n:]"
   ]
  },
  {
   "cell_type": "markdown",
   "metadata": {},
   "source": [
    "# Naive Bayes classifier"
   ]
  },
  {
   "cell_type": "code",
   "execution_count": 7,
   "metadata": {},
   "outputs": [],
   "source": [
    "# implementing \n",
    "from sklearn.naive_bayes import GaussianNB\n",
    "naiveBayes = GaussianNB() \n",
    "naiveBayes.fit(X_train, y_train)\n",
    "y_pred = naiveBayes.predict(X_test)"
   ]
  },
  {
   "cell_type": "code",
   "execution_count": 8,
   "metadata": {},
   "outputs": [
    {
     "name": "stdout",
     "output_type": "stream",
     "text": [
      "The precision of the NaiveBayes model is 85.59322033898306%\n",
      "[[65  2]\n",
      " [15 36]]\n"
     ]
    }
   ],
   "source": [
    "# score and confusion matrix\n",
    "score = sum(y_pred == y_test)/len(y_pred)\n",
    "print(\"The precision of the NaiveBayes model is {}%\".format(score * 100))\n",
    "cm = confusion_matrix(y_test, y_pred, labels=[8, 9])\n",
    "print(cm)"
   ]
  },
  {
   "cell_type": "code",
   "execution_count": 10,
   "metadata": {},
   "outputs": [
    {
     "data": {
      "image/png": "[encoded data removed]",
      "text/plain": [
       "<Figure size 288x288 with 2 Axes>"
      ]
     },
     "metadata": {
      "needs_background": "light"
     },
     "output_type": "display_data"
    }
   ],
   "source": [
    "# plot the confusion matrix\n",
    "plt.matshow(cm)\n",
    "plt.title('Confusion matrix')\n",
    "plt.colorbar()\n",
    "plt.show()"
   ]
  },
  {
   "cell_type": "code",
   "execution_count": 11,
   "metadata": {},
   "outputs": [
    {
     "data": {
      "image/png": "[encoded data removed]",
      "text/plain": [
       "<Figure size 288x144 with 1 Axes>"
      ]
     },
     "metadata": {
      "needs_background": "light"
     },
     "output_type": "display_data"
    }
   ],
   "source": [
    "#Compute the area under the ROC curve\n",
    "from sklearn import metrics\n",
    "y_proba = naiveBayes.predict_proba(X)[:, 0]\n",
    "fpr, tpr, thresholds = metrics.roc_curve(y, y_proba, pos_label=8)\n",
    "figure = plt.figure(figsize=(4,2))\n",
    "plt.plot(fpr,tpr, linewidth=2)\n",
    "plt.title('Naive Bayes. Roc curve')\n",
    "plt.xlabel('fpr')\n",
    "plt.ylabel('tpr')\n",
    "plt.plot(tpr,tpr,\"y--\", linewidth=2)\n",
    "plt.grid(linestyle='solid')\n",
    "plt.show()"
   ]
  },
  {
   "cell_type": "code",
   "execution_count": 62,
   "metadata": {
    "scrolled": true
   },
   "outputs": [
    {
     "name": "stdout",
     "output_type": "stream",
     "text": [
      "[[57  2]\n",
      " [16 43]]\n",
      "The precision of the NaiveBayes model is 84.7457627118644%\n",
      "[[56  0]\n",
      " [12 50]]\n",
      "The precision of the NaiveBayes model is 89.83050847457628%\n",
      "[[59  0]\n",
      " [ 7 52]]\n",
      "The precision of the NaiveBayes model is 94.0677966101695%\n",
      "NBayes score = 0.8954802259887006\n",
      "NBayes precision score = 0.8327635745041063\n",
      "NBayes recall score = 0.9887005649717514\n"
     ]
    },
    {
     "data": {
      "image/png": "[encoded data removed]",
      "text/plain": [
       "<Figure size 1440x288 with 18 Axes>"
      ]
     },
     "metadata": {
      "needs_background": "light"
     },
     "output_type": "display_data"
    },
    {
     "data": {
      "image/png": "[encoded data removed]",
      "text/plain": [
       "<Figure size 1440x288 with 12 Axes>"
      ]
     },
     "metadata": {
      "needs_background": "light"
     },
     "output_type": "display_data"
    },
    {
     "data": {
      "image/png": "[encoded data removed]",
      "text/plain": [
       "<Figure size 1440x288 with 7 Axes>"
      ]
     },
     "metadata": {
      "needs_background": "light"
     },
     "output_type": "display_data"
    }
   ],
   "source": [
    "# Kfold cross validation with Naive Bayes Classifier\n",
    "kf = KFold(n_splits=3, shuffle = True, random_state = 0)\n",
    "naiveBayes = GaussianNB() \n",
    "scores = []\n",
    "pres_score = []\n",
    "recal_score = []\n",
    "for train, test in kf.split(X):\n",
    "    naiveBayes.fit(X[train], y[train])\n",
    "    y_pred = naiveBayes.predict(X[test])\n",
    "    \n",
    "    # find the misclassified labels and get their indexes\n",
    "    index = 0\n",
    "    misclassifiedIndexes = []\n",
    "    for label, predict in zip(y[test], y_pred):\n",
    "        if label != predict: \n",
    "            misclassifiedIndexes.append(index)\n",
    "        index +=1\n",
    "    plt.figure(figsize=(20,4))\n",
    "    # plot those which were wrongly classified by the model\n",
    "    for plotIndex, badIndex in enumerate(misclassifiedIndexes[:]):\n",
    "        plt.subplot(1, len(misclassifiedIndexes), plotIndex + 1)\n",
    "        plt.axis(\"off\")\n",
    "        plt.imshow(np.reshape(X[test][badIndex], (8,8)), cmap=plt.cm.gray)\n",
    "        plt.title('Pred: {}, Act: {}'.format(y_pred[badIndex], y[test][badIndex]), fontsize = 20)\n",
    "    cm = metrics.confusion_matrix(y[test], y_pred)\n",
    "    print(cm)\n",
    "    score = sum(y_pred == y[test])/len(y_pred)\n",
    "    scores.append(score)\n",
    "    pres_score.append(precision_score(y[test], y_pred, pos_label=8))\n",
    "    recal_score.append(recall_score(y[test], y_pred, pos_label=8))\n",
    "    scores.append(score)\n",
    "    print(\"The precision of the NaiveBayes model is {}%\".format(score * 100))   \n",
    "print('NBayes score =', np.mean(scores))\n",
    "print('NBayes precision score =', np.mean(pres_score))\n",
    "print('NBayes recall score =', np.mean(recal_score))"
   ]
  },
  {
   "cell_type": "markdown",
   "metadata": {},
   "source": [
    "# Linear discriminant analysis"
   ]
  },
  {
   "cell_type": "code",
   "execution_count": 57,
   "metadata": {
    "colab": {
     "base_uri": "https://localhost:8080/",
     "height": 426
    },
    "id": "JTCNjl9Efo9V",
    "outputId": "09995364-296f-40a1-9064-d89a41f4edaa",
    "scrolled": true
   },
   "outputs": [
    {
     "name": "stdout",
     "output_type": "stream",
     "text": [
      "[[59  0]\n",
      " [ 3 56]]\n",
      "The precision of the LDA model is 97.45762711864407%\n",
      "[[56  0]\n",
      " [ 1 61]]\n",
      "The precision of the LDA model is 99.15254237288136%\n",
      "[[57  2]\n",
      " [ 0 59]]\n",
      "The precision of the LDA model is 98.30508474576271%\n",
      "LDA score = 0.9830508474576272\n",
      "LDA precision score = 0.9780230145255612\n",
      "LDA recall score = 0.9887005649717514\n"
     ]
    },
    {
     "data": {
      "image/png": "[encoded data removed]",
      "text/plain": [
       "<Figure size 1440x288 with 3 Axes>"
      ]
     },
     "metadata": {
      "needs_background": "light"
     },
     "output_type": "display_data"
    },
    {
     "data": {
      "image/png": "[encoded data removed]",
      "text/plain": [
       "<Figure size 1440x288 with 1 Axes>"
      ]
     },
     "metadata": {
      "needs_background": "light"
     },
     "output_type": "display_data"
    },
    {
     "data": {
      "image/png": "[encoded data removed]",
      "text/plain": [
       "<Figure size 1440x288 with 2 Axes>"
      ]
     },
     "metadata": {
      "needs_background": "light"
     },
     "output_type": "display_data"
    }
   ],
   "source": [
    "from sklearn.discriminant_analysis import LinearDiscriminantAnalysis\n",
    "Lda = LinearDiscriminantAnalysis()\n",
    "kf = KFold(n_splits=3, shuffle = True, random_state=0)\n",
    "scores = []\n",
    "pres_score = []\n",
    "recal_score = []\n",
    "for train, test in kf.split(X):\n",
    "    Lda.fit(X[train], y[train])\n",
    "    y_pred = Lda.predict(X[test])\n",
    "    \n",
    "    # find the misclassified labels and get their indexes\n",
    "    index = 0\n",
    "    misclassifiedIndexes = []\n",
    "    for label, predict in zip(y[test], y_pred):\n",
    "        if label != predict: \n",
    "            misclassifiedIndexes.append(index)\n",
    "        index +=1\n",
    "    # plot those which were wrongly classified by the model\n",
    "    plt.figure(figsize=(20,4))\n",
    "    for plotIndex, badIndex in enumerate(misclassifiedIndexes[:]):\n",
    "        plt.subplot(1, len(misclassifiedIndexes), plotIndex + 1)\n",
    "        plt.axis(\"off\")\n",
    "        plt.imshow(np.reshape(X[test][badIndex], (8,8)), cmap=plt.cm.gray)\n",
    "        plt.title('Predicted: {}, Actual: {}'.format(y_pred[badIndex], y[test][badIndex]), fontsize = 20)\n",
    "    cm = metrics.confusion_matrix(y[test], y_pred)\n",
    "    print(cm)\n",
    "    score = sum(y_pred == y[test])/len(y_pred)\n",
    "    pres_score.append(precision_score(y[test], y_pred, pos_label=8))\n",
    "    recal_score.append(recall_score(y[test], y_pred, pos_label=8))\n",
    "    scores.append(score)\n",
    "    print(\"The precision of the LDA model is {}%\".format(score * 100))   \n",
    "print('LDA score =', np.mean(scores))\n",
    "print('LDA precision score =', np.mean(pres_score))\n",
    "print('LDA recall score =', np.mean(recal_score))"
   ]
  },
  {
   "cell_type": "markdown",
   "metadata": {},
   "source": [
    "# Logistic regression"
   ]
  },
  {
   "cell_type": "code",
   "execution_count": 19,
   "metadata": {
    "colab": {
     "base_uri": "https://localhost:8080/",
     "height": 34
    },
    "id": "ZvhnZV7VYX1T",
    "outputId": "0e1c648e-291c-4dac-9206-3afc0bff81fd",
    "scrolled": true
   },
   "outputs": [
    {
     "name": "stdout",
     "output_type": "stream",
     "text": [
      "[[57  2]\n",
      " [ 2 57]]\n",
      "The precision of the LRG model is 96.61016949152543%\n",
      "[[56  0]\n",
      " [ 1 61]]\n",
      "The precision of the LRG model is 99.15254237288136%\n",
      "[[57  2]\n",
      " [ 0 59]]\n",
      "The precision of the LRG model is 98.30508474576271%\n",
      "LogR score =98.023%, \n",
      "LogR precision score =98.285%, \n",
      "LogR recall score =97.740%, \n"
     ]
    },
    {
     "data": {
      "image/png": "[encoded data removed]",
      "text/plain": [
       "<Figure size 1440x288 with 4 Axes>"
      ]
     },
     "metadata": {
      "needs_background": "light"
     },
     "output_type": "display_data"
    },
    {
     "data": {
      "image/png": "[encoded data removed]",
      "text/plain": [
       "<Figure size 1440x288 with 1 Axes>"
      ]
     },
     "metadata": {
      "needs_background": "light"
     },
     "output_type": "display_data"
    },
    {
     "data": {
      "image/png": "[encoded data removed]",
      "text/plain": [
       "<Figure size 1440x288 with 2 Axes>"
      ]
     },
     "metadata": {
      "needs_background": "light"
     },
     "output_type": "display_data"
    }
   ],
   "source": [
    "from sklearn.linear_model import LogisticRegression\n",
    "logisticregre=LogisticRegression(C=1e5)\n",
    "kf = KFold(n_splits=3, shuffle = True, random_state = 0)\n",
    "scores = []\n",
    "pres_score = []\n",
    "recal_score = []\n",
    "for train, test in kf.split(X): \n",
    "    logisticregre.fit(X[train], y[train])\n",
    "    y_pred = logisticregre.predict(X[test])\n",
    "    index = 0\n",
    "    misclassifiedIndexes = []\n",
    "    for label, predict in zip(y[test], y_pred):\n",
    "        if label != predict: \n",
    "            misclassifiedIndexes.append(index)\n",
    "        index +=1\n",
    "    plt.figure(figsize=(20,4))\n",
    "    for plotIndex, badIndex in enumerate(misclassifiedIndexes[:]):\n",
    "        plt.subplot(1, len(misclassifiedIndexes), plotIndex + 1)\n",
    "        plt.axis(\"off\")\n",
    "        plt.imshow(np.reshape(X[test][badIndex], (8,8)), cmap=plt.cm.gray)\n",
    "        plt.title('Predicted: {}, Actual: {}'.format(y_pred[badIndex], y[test][badIndex]), fontsize = 20)\n",
    "        \n",
    "    cm = confusion_matrix(y[test], y_pred)\n",
    "    print(cm)\n",
    "    score = sum(y_pred == y[test])/len(y_pred)\n",
    "    pres_score.append(precision_score(y[test], y_pred, pos_label=8))\n",
    "    recal_score.append(recall_score(y[test], y_pred, pos_label=8))\n",
    "    scores.append(score)\n",
    "    scores.append(score)\n",
    "    print(\"The precision of the LRG model is {}%\".format(score * 100))  \n",
    "\n",
    "print('LogR score =%.3f%%, ' % (np.mean(scores)*100))\n",
    "print('LogR precision score =%.3f%%, ' % (np.mean(pres_score)*100))\n",
    "print('LogR recall score =%.3f%%, ' % (np.mean(recal_score)*100))\n"
   ]
  },
  {
   "cell_type": "markdown",
   "metadata": {},
   "source": [
    "# KNN model"
   ]
  },
  {
   "cell_type": "code",
   "execution_count": 11,
   "metadata": {
    "scrolled": true
   },
   "outputs": [
    {
     "name": "stdout",
     "output_type": "stream",
     "text": [
      "k=1, accuracy=98.87%, precision =98.31%, recall =99.40%, \n",
      "k=3, accuracy=99.15%, precision =98.30%, recall =100.00%, \n",
      "k=5, accuracy=99.15%, precision =98.30%, recall =100.00%, \n",
      "k=7, accuracy=98.59%, precision =97.76%, recall =99.44%, \n"
     ]
    },
    {
     "data": {
      "text/plain": [
       "<Figure size 1440x288 with 0 Axes>"
      ]
     },
     "metadata": {},
     "output_type": "display_data"
    },
    {
     "data": {
      "image/png": "[encoded data removed]",
      "text/plain": [
       "<Figure size 1440x288 with 2 Axes>"
      ]
     },
     "metadata": {
      "needs_background": "light"
     },
     "output_type": "display_data"
    },
    {
     "data": {
      "image/png": "[encoded data removed]",
      "text/plain": [
       "<Figure size 1440x288 with 2 Axes>"
      ]
     },
     "metadata": {
      "needs_background": "light"
     },
     "output_type": "display_data"
    },
    {
     "data": {
      "image/png": "[encoded data removed]",
      "text/plain": [
       "<Figure size 1440x288 with 1 Axes>"
      ]
     },
     "metadata": {
      "needs_background": "light"
     },
     "output_type": "display_data"
    },
    {
     "data": {
      "image/png": "[encoded data removed]",
      "text/plain": [
       "<Figure size 1440x288 with 1 Axes>"
      ]
     },
     "metadata": {
      "needs_background": "light"
     },
     "output_type": "display_data"
    },
    {
     "data": {
      "image/png": "[encoded data removed]",
      "text/plain": [
       "<Figure size 1440x288 with 1 Axes>"
      ]
     },
     "metadata": {
      "needs_background": "light"
     },
     "output_type": "display_data"
    },
    {
     "data": {
      "image/png": "[encoded data removed]",
      "text/plain": [
       "<Figure size 1440x288 with 1 Axes>"
      ]
     },
     "metadata": {
      "needs_background": "light"
     },
     "output_type": "display_data"
    },
    {
     "data": {
      "image/png": "[encoded data removed]",
      "text/plain": [
       "<Figure size 1440x288 with 1 Axes>"
      ]
     },
     "metadata": {
      "needs_background": "light"
     },
     "output_type": "display_data"
    },
    {
     "data": {
      "image/png": "[encoded data removed]",
      "text/plain": [
       "<Figure size 1440x288 with 1 Axes>"
      ]
     },
     "metadata": {
      "needs_background": "light"
     },
     "output_type": "display_data"
    },
    {
     "data": {
      "image/png": "[encoded data removed]",
      "text/plain": [
       "<Figure size 1440x288 with 2 Axes>"
      ]
     },
     "metadata": {
      "needs_background": "light"
     },
     "output_type": "display_data"
    },
    {
     "data": {
      "image/png": "[encoded data removed]",
      "text/plain": [
       "<Figure size 1440x288 with 1 Axes>"
      ]
     },
     "metadata": {
      "needs_background": "light"
     },
     "output_type": "display_data"
    },
    {
     "data": {
      "image/png": "[encoded data removed]",
      "text/plain": [
       "<Figure size 1440x288 with 2 Axes>"
      ]
     },
     "metadata": {
      "needs_background": "light"
     },
     "output_type": "display_data"
    }
   ],
   "source": [
    "from sklearn.neighbors import KNeighborsClassifier\n",
    "from sklearn.model_selection import KFold\n",
    "kf = KFold(n_splits=3, shuffle=True, random_state=0)\n",
    "accuracy = {}\n",
    "precision = {}\n",
    "recall = {}\n",
    "kValues = [1, 3, 5, 7]\n",
    "for k in kValues:\n",
    "    scores = []\n",
    "    pres_score = []\n",
    "    recal_score = []    \n",
    "    KnnModel = KNeighborsClassifier(k)\n",
    "    for train, test in kf.split(X):\n",
    "        KnnModel.fit(X[train], y[train])\n",
    "        y_pred = KnnModel.predict(X[test])\n",
    "        \n",
    "        # find the misclassified labels and get their indexes\n",
    "        index = 0\n",
    "        misclassifiedIndexes = []\n",
    "        for label, predict in zip(y[test], y_pred):\n",
    "            if label != predict: \n",
    "                misclassifiedIndexes.append(index)\n",
    "            index +=1\n",
    "            \n",
    "        # plot those which were wrongly classified by the model for each value of k\n",
    "        plt.figure(figsize=(20,4))\n",
    "        for plotIndex, badIndex in enumerate(misclassifiedIndexes[:]):\n",
    "            plt.subplot(1, len(misclassifiedIndexes), plotIndex + 1)\n",
    "            plt.axis(\"off\")\n",
    "            plt.imshow(np.reshape(X[test][badIndex], (8,8)), cmap=plt.cm.gray)\n",
    "            plt.title('Predicted: {}, Actual: {}'.format(y_pred[badIndex], y[test][badIndex]), fontsize = 20)\n",
    "        score = KnnModel.score(X[test], y[test])\n",
    "        scores.append(score)\n",
    "        pres_score.append(precision_score(y[test], y_pred, pos_label=8))\n",
    "        recal_score.append(recall_score(y[test], y_pred, pos_label=8))\n",
    "        \n",
    "    print(\"k=%d, accuracy=%.2f%%, precision =%.2f%%, recall =%.2f%%, \" % (k, np.mean(scores) * 100,\\\n",
    "                                                np.mean(pres_score) * 100, np.mean(recal_score) * 100))\n",
    "          \n",
    "    "
   ]
  },
  {
   "cell_type": "code",
   "execution_count": 31,
   "metadata": {
    "colab": {
     "base_uri": "https://localhost:8080/",
     "height": 34
    },
    "id": "BgGpt5ejwRoX",
    "outputId": "5603b189-e0ec-49eb-8a67-645add6a03d5",
    "scrolled": true
   },
   "outputs": [
    {
     "name": "stdout",
     "output_type": "stream",
     "text": [
      "|--- feature_42 <= 4.50\n",
      "|   |--- feature_43 <= 8.50\n",
      "|   |   |--- feature_36 <= 15.50\n",
      "|   |   |   |--- class: 9\n",
      "|   |   |--- feature_36 >  15.50\n",
      "|   |   |   |--- feature_46 <= 0.50\n",
      "|   |   |   |   |--- class: 9\n",
      "|   |   |   |--- feature_46 >  0.50\n",
      "|   |   |   |   |--- feature_30 <= 5.00\n",
      "|   |   |   |   |   |--- class: 8\n",
      "|   |   |   |   |--- feature_30 >  5.00\n",
      "|   |   |   |   |   |--- class: 9\n",
      "|   |--- feature_43 >  8.50\n",
      "|   |   |--- feature_60 <= 3.00\n",
      "|   |   |   |--- class: 9\n",
      "|   |   |--- feature_60 >  3.00\n",
      "|   |   |   |--- class: 8\n",
      "|--- feature_42 >  4.50\n",
      "|   |--- feature_38 <= 4.00\n",
      "|   |   |--- feature_35 <= 4.50\n",
      "|   |   |   |--- class: 9\n",
      "|   |   |--- feature_35 >  4.50\n",
      "|   |   |   |--- class: 8\n",
      "|   |--- feature_38 >  4.00\n",
      "|   |   |--- class: 9\n",
      "\n",
      "[[59  0]\n",
      " [ 1 58]]\n",
      "The precision of the Tree model is 99.15254237288136%\n",
      "|--- feature_42 <= 4.50\n",
      "|   |--- feature_43 <= 7.50\n",
      "|   |   |--- feature_28 <= 4.50\n",
      "|   |   |   |--- feature_6 <= 0.50\n",
      "|   |   |   |   |--- class: 9\n",
      "|   |   |   |--- feature_6 >  0.50\n",
      "|   |   |   |   |--- class: 8\n",
      "|   |   |--- feature_28 >  4.50\n",
      "|   |   |   |--- class: 9\n",
      "|   |--- feature_43 >  7.50\n",
      "|   |   |--- feature_60 <= 3.00\n",
      "|   |   |   |--- class: 9\n",
      "|   |   |--- feature_60 >  3.00\n",
      "|   |   |   |--- class: 8\n",
      "|--- feature_42 >  4.50\n",
      "|   |--- feature_35 <= 3.00\n",
      "|   |   |--- class: 9\n",
      "|   |--- feature_35 >  3.00\n",
      "|   |   |--- class: 8\n",
      "\n",
      "[[54  2]\n",
      " [ 3 59]]\n",
      "The precision of the Tree model is 95.76271186440678%\n",
      "|--- feature_42 <= 4.50\n",
      "|   |--- feature_43 <= 5.00\n",
      "|   |   |--- feature_43 <= 3.50\n",
      "|   |   |   |--- class: 9\n",
      "|   |   |--- feature_43 >  3.50\n",
      "|   |   |   |--- feature_18 <= 15.00\n",
      "|   |   |   |   |--- class: 9\n",
      "|   |   |   |--- feature_18 >  15.00\n",
      "|   |   |   |   |--- class: 8\n",
      "|   |--- feature_43 >  5.00\n",
      "|   |   |--- feature_61 <= 1.00\n",
      "|   |   |   |--- class: 9\n",
      "|   |   |--- feature_61 >  1.00\n",
      "|   |   |   |--- class: 8\n",
      "|--- feature_42 >  4.50\n",
      "|   |--- feature_30 <= 5.50\n",
      "|   |   |--- feature_35 <= 4.50\n",
      "|   |   |   |--- class: 9\n",
      "|   |   |--- feature_35 >  4.50\n",
      "|   |   |   |--- class: 8\n",
      "|   |--- feature_30 >  5.50\n",
      "|   |   |--- class: 9\n",
      "\n",
      "[[56  3]\n",
      " [ 2 57]]\n",
      "The precision of the Tree model is 95.76271186440678%\n",
      "Tree score =96.893%, \n",
      "Tree precision score =96.541%, \n",
      "Tree recall score =97.115%, \n"
     ]
    },
    {
     "data": {
      "image/png": "[encoded data removed]",
      "text/plain": [
       "<Figure size 1440x288 with 1 Axes>"
      ]
     },
     "metadata": {
      "needs_background": "light"
     },
     "output_type": "display_data"
    },
    {
     "data": {
      "image/png": "[encoded data removed]",
      "text/plain": [
       "<Figure size 1440x288 with 5 Axes>"
      ]
     },
     "metadata": {
      "needs_background": "light"
     },
     "output_type": "display_data"
    },
    {
     "data": {
      "image/png": "[encoded data removed]",
      "text/plain": [
       "<Figure size 1440x288 with 5 Axes>"
      ]
     },
     "metadata": {
      "needs_background": "light"
     },
     "output_type": "display_data"
    }
   ],
   "source": [
    "# Decision Tree\n",
    "from sklearn import tree\n",
    "from sklearn.tree import export_text\n",
    "tree = tree.DecisionTreeClassifier()\n",
    "kf = KFold(n_splits=3, shuffle = True, random_state = 0)\n",
    "scores = []\n",
    "pres_score = []\n",
    "recal_score = []\n",
    "for train, test in kf.split(X): \n",
    "    treefit = tree.fit(X[train], y[train])\n",
    "    y_pred = treefit.predict(X[test])\n",
    "    r = export_text(treefit)\n",
    "    print(r)\n",
    "    \n",
    "    # find the misclassified labels and get their indexes\n",
    "    index = 0\n",
    "    misclassifiedIndexes = []\n",
    "    for label, predict in zip(y[test], y_pred):\n",
    "        if label != predict: \n",
    "            misclassifiedIndexes.append(index)\n",
    "        index +=1\n",
    "        \n",
    "    plt.figure(figsize=(20,4))\n",
    "    for plotIndex, badIndex in enumerate(misclassifiedIndexes[:]):\n",
    "        plt.subplot(1, len(misclassifiedIndexes), plotIndex + 1)\n",
    "        plt.axis(\"off\")\n",
    "        plt.imshow(np.reshape(X[test][badIndex], (8,8)), cmap=plt.cm.gray)\n",
    "        plt.title('Predicted: {}, Actual: {}'.format(y_pred[badIndex], y[test][badIndex]), fontsize = 20)\n",
    "        \n",
    "    cm = confusion_matrix(y[test], y_pred)\n",
    "    print(cm)\n",
    "    score = sum(y_pred == y[test])/len(y_pred)\n",
    "    pres_score.append(precision_score(y[test], y_pred, pos_label=8))\n",
    "    recal_score.append(recall_score(y[test], y_pred, pos_label=8))\n",
    "    scores.append(score)\n",
    "    scores.append(score)\n",
    "    print(\"The precision of the Tree model is {}%\".format(score * 100))  \n",
    "\n",
    "print('Tree score =%.3f%%, ' % (np.mean(scores)*100))\n",
    "print('Tree precision score =%.3f%%, ' % (np.mean(pres_score)*100))\n",
    "print('Tree recall score =%.3f%%, ' % (np.mean(recal_score)*100))\n"
   ]
  },
  {
   "cell_type": "markdown",
   "metadata": {
    "colab": {
     "base_uri": "https://localhost:8080/",
     "height": 459
    },
    "id": "I3zTZwKQyEIK",
    "outputId": "16f3b3c2-c062-4288-bf40-30d4d9bf5402"
   },
   "source": [
    "# Bootstrap Aggregation Classifier\n"
   ]
  },
  {
   "cell_type": "code",
   "execution_count": 41,
   "metadata": {
    "colab": {
     "base_uri": "https://localhost:8080/",
     "height": 105
    },
    "id": "irks1qUSk0Op",
    "outputId": "a8503f36-e986-4c62-ed52-3b07fee4b9a1"
   },
   "outputs": [
    {
     "name": "stdout",
     "output_type": "stream",
     "text": [
      "accuracy :\n",
      "90.678%\n"
     ]
    }
   ],
   "source": [
    "#Bagging for Naive Bayes\n",
    "from sklearn.ensemble import BaggingClassifier  \n",
    "kfold = KFold(n_splits = 3, shuffle = True, random_state = 0)   \n",
    "# bagging classifier \n",
    "model = BaggingClassifier(base_estimator = naiveBayes, \n",
    "                          n_estimators = 10, \n",
    "                          random_state = 0).fit(X, y)\n",
    "  \n",
    "results = cross_val_score(model, X, y, cv = kfold) \n",
    "print(\"accuracy :\") \n",
    "print(\"{0:.3f}%\".format(np.mean(results) *100))"
   ]
  },
  {
   "cell_type": "code",
   "execution_count": 42,
   "metadata": {},
   "outputs": [
    {
     "name": "stdout",
     "output_type": "stream",
     "text": [
      "accuracy :\n",
      "96.610%\n"
     ]
    }
   ],
   "source": [
    "#Bagging for DecisionTree \n",
    "kfold = KFold(n_splits = 3, shuffle = True, random_state = 0)   \n",
    "# bagging classifier \n",
    "model = BaggingClassifier(random_state = 0).fit(X, y)\n",
    "  \n",
    "results = cross_val_score(model, X, y, cv = kfold) \n",
    "print(\"accuracy :\") \n",
    "print(\"{0:.3f}%\".format(np.mean(results) *100))"
   ]
  },
  {
   "cell_type": "markdown",
   "metadata": {},
   "source": [
    "# Random Forest Classifier"
   ]
  },
  {
   "cell_type": "code",
   "execution_count": 13,
   "metadata": {},
   "outputs": [
    {
     "name": "stdout",
     "output_type": "stream",
     "text": [
      "accuracy :\n",
      "98.305%\n"
     ]
    }
   ],
   "source": [
    "from sklearn.ensemble import RandomForestClassifier as RandFR\n",
    "kfold = KFold(n_splits = 3, shuffle = True, random_state = 0)   \n",
    "# create an istance of the model in its base version\n",
    "RandFR_model = RandFR()\n",
    "# train the model\n",
    "RandFR_model.fit(X_train, y_train)\n",
    "# evaluate the model\n",
    "results = cross_val_score(RandFR_model, X, y, cv = kfold) \n",
    "print(\"accuracy :\") \n",
    "print(\"{0:.3f}%\".format(np.mean(results) *100))\n",
    "#print(\"The RandFR accuracy = \", accuracy_score(y_test, y_pred))"
   ]
  },
  {
   "cell_type": "code",
   "execution_count": 14,
   "metadata": {},
   "outputs": [],
   "source": [
    "#Hyperparameter Tuning of the RandFR model\n",
    "from sklearn.model_selection import RandomizedSearchCV\n",
    "# Number of trees in the forest\n",
    "n_estimators = [50, 150, 200, 300, 400]\n",
    "# Maximum number of levels in tree\n",
    "max_depth = [int(x) for x in np.linspace(3, 21, num = 5)]\n",
    "# Minimum number of samples required to split a node\n",
    "min_samples_split = [2, 5, 7]\n",
    "# Create the param grid\n",
    "param_grid = {'n_estimators': n_estimators,\n",
    "               'max_depth': max_depth,\n",
    "               'min_samples_split': min_samples_split}"
   ]
  },
  {
   "cell_type": "code",
   "execution_count": 15,
   "metadata": {},
   "outputs": [
    {
     "name": "stdout",
     "output_type": "stream",
     "text": [
      "Fitting 2 folds for each of 20 candidates, totalling 40 fits\n"
     ]
    },
    {
     "name": "stderr",
     "output_type": "stream",
     "text": [
      "[Parallel(n_jobs=-1)]: Using backend LokyBackend with 8 concurrent workers.\n",
      "[Parallel(n_jobs=-1)]: Done  25 tasks      | elapsed:    5.0s\n",
      "[Parallel(n_jobs=-1)]: Done  40 out of  40 | elapsed:    5.7s finished\n"
     ]
    },
    {
     "data": {
      "text/plain": [
       "{'n_estimators': 300, 'min_samples_split': 2, 'max_depth': 21}"
      ]
     },
     "execution_count": 15,
     "metadata": {},
     "output_type": "execute_result"
    }
   ],
   "source": [
    "# create the base model to tune\n",
    "RandFR_model = RandFR()\n",
    "# Walk all paramters, using 3 fold cross validation, \n",
    "# search across 100 different combinations, and use all available cores\n",
    "RandFR_search = RandomizedSearchCV(estimator = RandFR_model, \n",
    "                                   param_distributions = param_grid, \n",
    "                                   n_iter = 20, cv = 2, verbose=2,\n",
    "                                   random_state=42, n_jobs = -1)\n",
    "# train the search model \n",
    "RandFR_search.fit(X_train, y_train)\n",
    "\n",
    "RandFR_search.best_params_"
   ]
  },
  {
   "cell_type": "code",
   "execution_count": 16,
   "metadata": {},
   "outputs": [
    {
     "name": "stdout",
     "output_type": "stream",
     "text": [
      "accuracy :\n",
      "98.588%\n"
     ]
    }
   ],
   "source": [
    "# get the best version\n",
    "best_RandFR = RandFR_search.best_estimator_\n",
    "del RandFR_search\n",
    "\n",
    "# train the model \n",
    "best_RandFR.fit(X_train, y_train)\n",
    "\n",
    "# evaluate the model\n",
    "results = cross_val_score(best_RandFR, X, y, cv = kfold) \n",
    "print(\"accuracy :\") \n",
    "print(\"{0:.3f}%\".format(np.mean(results) *100))\n",
    "#print(\"The RandFR accuracy = \", accuracy_score(y_test, y_pred))"
   ]
  },
  {
   "cell_type": "markdown",
   "metadata": {},
   "source": [
    "We observe a slight improvement in the accuracy score compared to the model in its default state"
   ]
  },
  {
   "cell_type": "code",
   "execution_count": 21,
   "metadata": {},
   "outputs": [
    {
     "data": {
      "text/plain": [
       "0"
      ]
     },
     "execution_count": 21,
     "metadata": {},
     "output_type": "execute_result"
    }
   ],
   "source": [
    "y_prd = best_RandFR.predict(X_test)\n",
    "sum(y_prd != y_test)"
   ]
  },
  {
   "cell_type": "code",
   "execution_count": 22,
   "metadata": {},
   "outputs": [
    {
     "data": {
      "image/png": "[encoded data removed]",
      "text/plain": [
       "<Figure size 288x144 with 1 Axes>"
      ]
     },
     "metadata": {
      "needs_background": "light"
     },
     "output_type": "display_data"
    }
   ],
   "source": [
    "#Compute the area under the ROC curve\n",
    "from sklearn import metrics\n",
    "y_proba = best_RandFR.predict_proba(X)[:, 0]\n",
    "fpr, tpr, thresholds = metrics.roc_curve(y, y_proba, pos_label=8)\n",
    "figure = plt.figure(figsize=(4,2))\n",
    "plt.plot(fpr,tpr, linewidth=2)\n",
    "plt.title('Random Forest. Roc curve')\n",
    "plt.xlabel('fpr')\n",
    "plt.ylabel('tpr')\n",
    "plt.plot(tpr,tpr,\"y--\", linewidth=2)\n",
    "plt.grid(linestyle='solid')\n",
    "plt.show()"
   ]
  },
  {
   "cell_type": "markdown",
   "metadata": {},
   "source": [
    "# Gradient Boosting Classifier"
   ]
  },
  {
   "cell_type": "code",
   "execution_count": 25,
   "metadata": {},
   "outputs": [
    {
     "name": "stdout",
     "output_type": "stream",
     "text": [
      "Fitting 2 folds for each of 20 candidates, totalling 40 fits\n"
     ]
    },
    {
     "name": "stderr",
     "output_type": "stream",
     "text": [
      "[Parallel(n_jobs=-1)]: Using backend LokyBackend with 8 concurrent workers.\n",
      "[Parallel(n_jobs=-1)]: Done  25 tasks      | elapsed:    3.0s\n"
     ]
    },
    {
     "name": "stdout",
     "output_type": "stream",
     "text": [
      "Best: with {'n_estimators': 300, 'learning_rate': 0.1}\n"
     ]
    },
    {
     "name": "stderr",
     "output_type": "stream",
     "text": [
      "[Parallel(n_jobs=-1)]: Done  40 out of  40 | elapsed:    3.4s finished\n"
     ]
    }
   ],
   "source": [
    "from sklearn.ensemble import GradientBoostingClassifier as GradBoost\n",
    "# set up the param grid\n",
    "n_estimators = [100, 200, 300, 400, 500]\n",
    "learning_rate = [0.001, 0.01, 0.1, 0.2, 0.3]\n",
    "param_grid = dict(learning_rate=learning_rate, n_estimators=n_estimators)\n",
    "\n",
    "# create the base model to tune\n",
    "GradBoost_model = GradBoost(n_iter_no_change = 3)\n",
    "# Walk all paramters, using 2 foldS cross validation, \n",
    "# search across 20 different combinations, and use all available cores\n",
    "GradBoost_search = RandomizedSearchCV(estimator = GradBoost_model, \n",
    "                                   param_distributions = param_grid, \n",
    "                                   n_iter = 20, cv = 2, verbose=2,\n",
    "                                   random_state=42, n_jobs = -1)\n",
    "\n",
    "# train the search model\n",
    "GradBoost_search.fit(X_train, y_train)\n",
    "\n",
    "print(\"Best: with %s\" % (GradBoost_search.best_params_))"
   ]
  },
  {
   "cell_type": "code",
   "execution_count": 26,
   "metadata": {},
   "outputs": [
    {
     "name": "stdout",
     "output_type": "stream",
     "text": [
      "accuracy :\n",
      "98.023%\n"
     ]
    }
   ],
   "source": [
    "# get the best version\n",
    "best_GradBoost = GradBoost_search.best_estimator_\n",
    "del GradBoost_search\n",
    "\n",
    "# train the model \n",
    "best_GradBoost.fit(X_train, y_train)\n",
    "\n",
    "# evaluate the model\n",
    "results = cross_val_score(best_GradBoost, X, y, cv = kfold) \n",
    "print(\"accuracy :\") \n",
    "print(\"{0:.3f}%\".format(np.mean(results) *100))"
   ]
  },
  {
   "cell_type": "code",
   "execution_count": 27,
   "metadata": {},
   "outputs": [
    {
     "data": {
      "text/plain": [
       "2"
      ]
     },
     "execution_count": 27,
     "metadata": {},
     "output_type": "execute_result"
    }
   ],
   "source": [
    "y_prd = best_GradBoost.predict(X_test)\n",
    "sum(y_prd != y_test)"
   ]
  },
  {
   "cell_type": "code",
   "execution_count": 35,
   "metadata": {},
   "outputs": [
    {
     "name": "stdout",
     "output_type": "stream",
     "text": [
      "# logistic_reg 0.984 (0.020)\n",
      "# KNN 0.989 (0.016)\n",
      "# DecisionTree 0.970 (0.023)\n",
      "# Bayes 0.898 (0.037)\n",
      "# RFR 0.989 (0.017)\n",
      "# GradBoost 0.980 (0.021)\n",
      "# stacking 0.993 (0.012)\n"
     ]
    },
    {
     "data": {
      "image/png": "[encoded data removed]",
      "text/plain": [
       "<Figure size 432x288 with 1 Axes>"
      ]
     },
     "metadata": {
      "needs_background": "light"
     },
     "output_type": "display_data"
    }
   ],
   "source": [
    "# make a prediction with a stacking ensemble\n",
    "from sklearn.ensemble import StackingClassifier\n",
    "from sklearn.model_selection import RepeatedStratifiedKFold\n",
    "\n",
    "# get a stacking ensemble of models\n",
    "def get_stacking():\n",
    "    # define the base models\n",
    "    level = list()\n",
    "    level.append(('logistic_reg', LogisticRegression()))\n",
    "    level.append(('KNN', KNeighborsClassifier()))\n",
    "    level.append(('DecisionTree', DecisionTreeClassifier()))\n",
    "    level.append(('Bayes', GaussianNB()))\n",
    "    level.append(('RFR', best_RandFR))\n",
    "    level.append(('GradBoost', best_GradBoost))\n",
    "    # define meta learner model\n",
    "    level0 = LogisticRegression()\n",
    "    # define the stacking ensemble\n",
    "    model = StackingClassifier(estimators=level, final_estimator=level0, cv=5)\n",
    "    return model\n",
    "\n",
    "# get the list of the models to evaluate\n",
    "def get_models():\n",
    "    models = dict()\n",
    "    models['logistic_reg'] = LogisticRegression()\n",
    "    models['KNN'] = KNeighborsClassifier()\n",
    "    models['DecisionTree'] = DecisionTreeClassifier()\n",
    "    models['Bayes'] = GaussianNB()\n",
    "    models['RFR'] = best_RandFR\n",
    "    models['GradBoost'] = best_GradBoost\n",
    "    models['stacking'] = get_stacking()\n",
    "    return models\n",
    "\n",
    "# evaluate a give model using cross-validation\n",
    "def evaluate_model(model, X, y):\n",
    "    cv = RepeatedStratifiedKFold(n_splits=10, n_repeats=3, random_state = 0)\n",
    "    scores = cross_val_score(model, X, y, scoring='accuracy', cv=cv, n_jobs=-1, error_score='raise')\n",
    "    return scores\n",
    "\n",
    "# get the models to evaluate\n",
    "models = get_models()\n",
    "# evaluate the models and store results\n",
    "results, names = list(), list()\n",
    "for name, model in models.items():\n",
    "    scores = evaluate_model(model, X, y)\n",
    "    results.append(scores)\n",
    "    names.append(name)\n",
    "    print('# %s %.3f (%.3f)' % (name, np.mean(scores), np.std(scores)))\n",
    "# plot model performance for comparison\n",
    "plt.boxplot(results, labels=names, showmeans=True)\n",
    "plt.show()"
   ]
  },
  {
   "cell_type": "markdown",
   "metadata": {},
   "source": [
    "We can clearly see that the stacking technics on those algorithms give a very satisfying results in terms of accuracy and the variance."
   ]
  }
 ],
 "metadata": {
  "colab": {
   "collapsed_sections": [],
   "name": "MALPROJECT.ipynb",
   "provenance": []
  },
  "kernelspec": {
   "display_name": "Python 3",
   "language": "python",
   "name": "python3"
  },
  "language_info": {
   "codemirror_mode": {
    "name": "ipython",
    "version": 3
   },
   "file_extension": ".py",
   "mimetype": "text/x-python",
   "name": "python",
   "nbconvert_exporter": "python",
   "pygments_lexer": "ipython3",
   "version": "3.8.5"
  }
 },
 "nbformat": 4,
 "nbformat_minor": 1
}
